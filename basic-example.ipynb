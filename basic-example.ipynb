{
  "cells": [
    {
      "cell_type": "code",
      "metadata": {},
      "source": [
        "#| eval: false\n",
        "x = 1\n",
        "x\n",
        "# IGOT-ULisboa - Instituto de Geografia e Ordenamento do Território da Universidade de Lisboa\n",
        "import geopandas as gpd\n",
        "import shapely\n",
        "\n",
        "# Create a shapely Point geometry for IGOT\n",
        "# 38.7493402,-9.155268\n",
        "# Note: (longitude, latitude)\n",
        "igot_point = shapely.Point(-9.155268, 38.7493402)  \n",
        "\n",
        "# Create a GeoSeries from the point\n",
        "igot_geom = gpd.GeoSeries([igot_point], crs=\"EPSG:4326\")\n",
        "\n",
        "# Combine geometry with attributes in a dictionary\n",
        "igot_data = {\n",
        "    'name': ['IGOT-ULisboa'],\n",
        "    'geometry': igot_geom\n",
        "}\n",
        "\n",
        "# Create a GeoDataFrame\n",
        "igot_layer = gpd.GeoDataFrame(igot_data)\n",
        "igot_layer\n",
        "igot_layer.explore()"
      ],
      "execution_count": null,
      "outputs": []
    }
  ],
  "metadata": {
    "kernelspec": {
      "display_name": "Python 3",
      "language": "python",
      "name": "python3"
    }
  },
  "nbformat": 4,
  "nbformat_minor": 4
}